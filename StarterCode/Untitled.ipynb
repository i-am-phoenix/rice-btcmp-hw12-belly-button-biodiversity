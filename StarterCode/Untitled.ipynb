{
 "cells": [
  {
   "cell_type": "code",
   "execution_count": 3,
   "metadata": {},
   "outputs": [],
   "source": [
    "import pandas as pd\n",
    "import json\n",
    "from pprint import pprint as pp"
   ]
  },
  {
   "cell_type": "code",
   "execution_count": 4,
   "metadata": {},
   "outputs": [
    {
     "name": "stdout",
     "output_type": "stream",
     "text": [
      "     names                                           metadata  \\\n",
      "0      940  {'id': 940, 'ethnicity': 'Caucasian', 'gender'...   \n",
      "1      941  {'id': 941, 'ethnicity': 'Caucasian/Midleaster...   \n",
      "2      943  {'id': 943, 'ethnicity': 'Caucasian', 'gender'...   \n",
      "3      944  {'id': 944, 'ethnicity': 'European', 'gender':...   \n",
      "4      945  {'id': 945, 'ethnicity': 'Caucasian', 'gender'...   \n",
      "..     ...                                                ...   \n",
      "148   1574  {'id': 1574, 'ethnicity': 'Caucasian', 'gender...   \n",
      "149   1576  {'id': 1576, 'ethnicity': 'Caucasian', 'gender...   \n",
      "150   1577  {'id': 1577, 'ethnicity': 'Caucasian', 'gender...   \n",
      "151   1581  {'id': 1581, 'ethnicity': 'Asian(American)', '...   \n",
      "152   1601  {'id': 1601, 'ethnicity': 'Caucasian', 'gender...   \n",
      "\n",
      "                                               samples  \n",
      "0    {'id': '940', 'otu_ids': [1167, 2859, 482, 226...  \n",
      "1    {'id': '941', 'otu_ids': [2722, 944, 2419, 253...  \n",
      "2    {'id': '943', 'otu_ids': [1795], 'sample_value...  \n",
      "3    {'id': '944', 'otu_ids': [922, 3555, 943, 1013...  \n",
      "4    {'id': '945', 'otu_ids': [944, 1795, 922, 2419...  \n",
      "..                                                 ...  \n",
      "148  {'id': '1574', 'otu_ids': [482, 909, 2419, 944...  \n",
      "149  {'id': '1576', 'otu_ids': [1929, 1770, 1926, 1...  \n",
      "150  {'id': '1577', 'otu_ids': [922, 1795, 151, 318...  \n",
      "151  {'id': '1581', 'otu_ids': [1795, 3312, 1399, 3...  \n",
      "152  {'id': '1601', 'otu_ids': [1929, 3030, 1795, 8...  \n",
      "\n",
      "[153 rows x 3 columns]\n"
     ]
    }
   ],
   "source": [
    "data_raw = pd.read_json(\"./samples.json\")\n",
    "pp(data_raw, indent=4)"
   ]
  },
  {
   "cell_type": "code",
   "execution_count": 6,
   "metadata": {},
   "outputs": [
    {
     "data": {
      "text/html": [
       "<div>\n",
       "<style scoped>\n",
       "    .dataframe tbody tr th:only-of-type {\n",
       "        vertical-align: middle;\n",
       "    }\n",
       "\n",
       "    .dataframe tbody tr th {\n",
       "        vertical-align: top;\n",
       "    }\n",
       "\n",
       "    .dataframe thead th {\n",
       "        text-align: right;\n",
       "    }\n",
       "</style>\n",
       "<table border=\"1\" class=\"dataframe\">\n",
       "  <thead>\n",
       "    <tr style=\"text-align: right;\">\n",
       "      <th></th>\n",
       "      <th>names</th>\n",
       "      <th>metadata</th>\n",
       "      <th>samples</th>\n",
       "    </tr>\n",
       "  </thead>\n",
       "  <tbody>\n",
       "    <tr>\n",
       "      <th>0</th>\n",
       "      <td>940</td>\n",
       "      <td>{'id': 940, 'ethnicity': 'Caucasian', 'gender'...</td>\n",
       "      <td>{'id': '940', 'otu_ids': [1167, 2859, 482, 226...</td>\n",
       "    </tr>\n",
       "    <tr>\n",
       "      <th>1</th>\n",
       "      <td>941</td>\n",
       "      <td>{'id': 941, 'ethnicity': 'Caucasian/Midleaster...</td>\n",
       "      <td>{'id': '941', 'otu_ids': [2722, 944, 2419, 253...</td>\n",
       "    </tr>\n",
       "    <tr>\n",
       "      <th>2</th>\n",
       "      <td>943</td>\n",
       "      <td>{'id': 943, 'ethnicity': 'Caucasian', 'gender'...</td>\n",
       "      <td>{'id': '943', 'otu_ids': [1795], 'sample_value...</td>\n",
       "    </tr>\n",
       "    <tr>\n",
       "      <th>3</th>\n",
       "      <td>944</td>\n",
       "      <td>{'id': 944, 'ethnicity': 'European', 'gender':...</td>\n",
       "      <td>{'id': '944', 'otu_ids': [922, 3555, 943, 1013...</td>\n",
       "    </tr>\n",
       "    <tr>\n",
       "      <th>4</th>\n",
       "      <td>945</td>\n",
       "      <td>{'id': 945, 'ethnicity': 'Caucasian', 'gender'...</td>\n",
       "      <td>{'id': '945', 'otu_ids': [944, 1795, 922, 2419...</td>\n",
       "    </tr>\n",
       "  </tbody>\n",
       "</table>\n",
       "</div>"
      ],
      "text/plain": [
       "   names                                           metadata  \\\n",
       "0    940  {'id': 940, 'ethnicity': 'Caucasian', 'gender'...   \n",
       "1    941  {'id': 941, 'ethnicity': 'Caucasian/Midleaster...   \n",
       "2    943  {'id': 943, 'ethnicity': 'Caucasian', 'gender'...   \n",
       "3    944  {'id': 944, 'ethnicity': 'European', 'gender':...   \n",
       "4    945  {'id': 945, 'ethnicity': 'Caucasian', 'gender'...   \n",
       "\n",
       "                                             samples  \n",
       "0  {'id': '940', 'otu_ids': [1167, 2859, 482, 226...  \n",
       "1  {'id': '941', 'otu_ids': [2722, 944, 2419, 253...  \n",
       "2  {'id': '943', 'otu_ids': [1795], 'sample_value...  \n",
       "3  {'id': '944', 'otu_ids': [922, 3555, 943, 1013...  \n",
       "4  {'id': '945', 'otu_ids': [944, 1795, 922, 2419...  "
      ]
     },
     "execution_count": 6,
     "metadata": {},
     "output_type": "execute_result"
    }
   ],
   "source": [
    "data_df = pd.DataFrame(data_raw)\n",
    "data_df.head()"
   ]
  },
  {
   "cell_type": "code",
   "execution_count": 29,
   "metadata": {},
   "outputs": [
    {
     "name": "stdout",
     "output_type": "stream",
     "text": [
      "940\n"
     ]
    }
   ],
   "source": [
    "for index, row in data_df.iterrows():\n",
    "    if row[\"names\"] == 940:\n",
    "        print(row[\"names\"])\n",
    "        meta = row[\"metadata\"];\n",
    "        samples = row[\"samples\"];"
   ]
  },
  {
   "cell_type": "code",
   "execution_count": 35,
   "metadata": {},
   "outputs": [
    {
     "data": {
      "text/html": [
       "<div>\n",
       "<style scoped>\n",
       "    .dataframe tbody tr th:only-of-type {\n",
       "        vertical-align: middle;\n",
       "    }\n",
       "\n",
       "    .dataframe tbody tr th {\n",
       "        vertical-align: top;\n",
       "    }\n",
       "\n",
       "    .dataframe thead th {\n",
       "        text-align: right;\n",
       "    }\n",
       "</style>\n",
       "<table border=\"1\" class=\"dataframe\">\n",
       "  <thead>\n",
       "    <tr style=\"text-align: right;\">\n",
       "      <th></th>\n",
       "      <th>id</th>\n",
       "      <th>ethnicity</th>\n",
       "      <th>gender</th>\n",
       "      <th>age</th>\n",
       "      <th>location</th>\n",
       "      <th>bbtype</th>\n",
       "      <th>wfreq</th>\n",
       "    </tr>\n",
       "  </thead>\n",
       "  <tbody>\n",
       "    <tr>\n",
       "      <th>1</th>\n",
       "      <td>940</td>\n",
       "      <td>Caucasian</td>\n",
       "      <td>F</td>\n",
       "      <td>24.0</td>\n",
       "      <td>Beaufort/NC</td>\n",
       "      <td>I</td>\n",
       "      <td>2.0</td>\n",
       "    </tr>\n",
       "  </tbody>\n",
       "</table>\n",
       "</div>"
      ],
      "text/plain": [
       "    id  ethnicity gender   age     location bbtype  wfreq\n",
       "1  940  Caucasian      F  24.0  Beaufort/NC      I    2.0"
      ]
     },
     "execution_count": 35,
     "metadata": {},
     "output_type": "execute_result"
    }
   ],
   "source": [
    "pd.DataFrame(meta, index = [1])"
   ]
  },
  {
   "cell_type": "code",
   "execution_count": 37,
   "metadata": {},
   "outputs": [
    {
     "data": {
      "text/plain": [
       "dict_keys(['id', 'otu_ids', 'sample_values', 'otu_labels'])"
      ]
     },
     "execution_count": 37,
     "metadata": {},
     "output_type": "execute_result"
    }
   ],
   "source": [
    "samples.keys()"
   ]
  },
  {
   "cell_type": "code",
   "execution_count": 67,
   "metadata": {},
   "outputs": [
    {
     "data": {
      "image/png": "[encoded data removed]",
      "text/plain": [
       "<Figure size 432x288 with 1 Axes>"
      ]
     },
     "metadata": {
      "needs_background": "light"
     },
     "output_type": "display_data"
    }
   ],
   "source": [
    "\n",
    "data4plotting = pd.DataFrame(samples[\"otu_ids\"], columns=['otu_ids'])\n",
    "data4plotting[\"sample_values\"]=pd.DataFrame(samples[\"sample_values\"], columns=['sample_values'])\n",
    "data4plotting[\"otu_labels\"]=pd.DataFrame(samples[\"otu_labels\"], columns=['otu_labels'])\n",
    "data4plotting[\"otu_ids\"] = data4plotting[\"otu_ids\"]\n",
    "\n",
    "data4plottingFinal = data4plotting.sort_values(by=['sample_values'], ascending = False).loc[:9,:]\n",
    "data4plottingFinal.plot.barh(x='otu_ids', y='sample_values').invert_yaxis()"
   ]
  },
  {
   "cell_type": "code",
   "execution_count": 81,
   "metadata": {},
   "outputs": [
    {
     "data": {
      "image/png": "[encoded data removed]",
      "text/plain": [
       "<Figure size 432x288 with 1 Axes>"
      ]
     },
     "metadata": {
      "needs_background": "light"
     },
     "output_type": "display_data"
    }
   ],
   "source": [
    "import matplotlib.pyplot as plt\n",
    "\n",
    "# data4plotting.plot.scatter(x='otu_ids', y='sample_values', s='sample_values', c='otu_ids', colormap='viridis')\n",
    "plt.scatter(data4plotting['otu_ids'], data4plotting['sample_values'], s=data4plotting['sample_values'], c=data4plotting['otu_ids'], cmap='viridis', alpha=0.8)\n",
    "plt.grid(alpha=0.35)"
   ]
  },
  {
   "cell_type": "code",
   "execution_count": 76,
   "metadata": {},
   "outputs": [
    {
     "data": {
      "text/plain": [
       "<AxesSubplot:xlabel='otu_ids', ylabel='sample_values'>"
      ]
     },
     "execution_count": 76,
     "metadata": {},
     "output_type": "execute_result"
    },
    {
     "data": {
      "image/png": "[encoded data removed]",
      "text/plain": [
       "<Figure size 432x288 with 2 Axes>"
      ]
     },
     "metadata": {
      "needs_background": "light"
     },
     "output_type": "display_data"
    }
   ],
   "source": [
    "data4plottingFinal.plot.scatter(x='otu_ids', y='sample_values', s='sample_values', c='otu_ids', colormap='viridis')"
   ]
  },
  {
   "cell_type": "code",
   "execution_count": 82,
   "metadata": {},
   "outputs": [
    {
     "data": {
      "text/html": [
       "<div>\n",
       "<style scoped>\n",
       "    .dataframe tbody tr th:only-of-type {\n",
       "        vertical-align: middle;\n",
       "    }\n",
       "\n",
       "    .dataframe tbody tr th {\n",
       "        vertical-align: top;\n",
       "    }\n",
       "\n",
       "    .dataframe thead th {\n",
       "        text-align: right;\n",
       "    }\n",
       "</style>\n",
       "<table border=\"1\" class=\"dataframe\">\n",
       "  <thead>\n",
       "    <tr style=\"text-align: right;\">\n",
       "      <th></th>\n",
       "      <th>otu_ids</th>\n",
       "      <th>sample_values</th>\n",
       "      <th>otu_labels</th>\n",
       "    </tr>\n",
       "  </thead>\n",
       "  <tbody>\n",
       "    <tr>\n",
       "      <th>0</th>\n",
       "      <td>1167</td>\n",
       "      <td>163</td>\n",
       "      <td>Bacteria;Bacteroidetes;Bacteroidia;Bacteroidal...</td>\n",
       "    </tr>\n",
       "    <tr>\n",
       "      <th>1</th>\n",
       "      <td>2859</td>\n",
       "      <td>126</td>\n",
       "      <td>Bacteria;Firmicutes;Clostridia;Clostridiales;I...</td>\n",
       "    </tr>\n",
       "    <tr>\n",
       "      <th>2</th>\n",
       "      <td>482</td>\n",
       "      <td>113</td>\n",
       "      <td>Bacteria</td>\n",
       "    </tr>\n",
       "    <tr>\n",
       "      <th>3</th>\n",
       "      <td>2264</td>\n",
       "      <td>78</td>\n",
       "      <td>Bacteria;Firmicutes;Clostridia;Clostridiales;I...</td>\n",
       "    </tr>\n",
       "    <tr>\n",
       "      <th>4</th>\n",
       "      <td>41</td>\n",
       "      <td>71</td>\n",
       "      <td>Bacteria</td>\n",
       "    </tr>\n",
       "    <tr>\n",
       "      <th>5</th>\n",
       "      <td>1189</td>\n",
       "      <td>51</td>\n",
       "      <td>Bacteria;Bacteroidetes;Bacteroidia;Bacteroidal...</td>\n",
       "    </tr>\n",
       "    <tr>\n",
       "      <th>6</th>\n",
       "      <td>352</td>\n",
       "      <td>50</td>\n",
       "      <td>Bacteria</td>\n",
       "    </tr>\n",
       "    <tr>\n",
       "      <th>7</th>\n",
       "      <td>189</td>\n",
       "      <td>47</td>\n",
       "      <td>Bacteria</td>\n",
       "    </tr>\n",
       "    <tr>\n",
       "      <th>8</th>\n",
       "      <td>2318</td>\n",
       "      <td>40</td>\n",
       "      <td>Bacteria;Firmicutes;Clostridia;Clostridiales;I...</td>\n",
       "    </tr>\n",
       "    <tr>\n",
       "      <th>9</th>\n",
       "      <td>1977</td>\n",
       "      <td>40</td>\n",
       "      <td>Bacteria;Firmicutes;Clostridia;Clostridiales</td>\n",
       "    </tr>\n",
       "  </tbody>\n",
       "</table>\n",
       "</div>"
      ],
      "text/plain": [
       "   otu_ids  sample_values                                         otu_labels\n",
       "0     1167            163  Bacteria;Bacteroidetes;Bacteroidia;Bacteroidal...\n",
       "1     2859            126  Bacteria;Firmicutes;Clostridia;Clostridiales;I...\n",
       "2      482            113                                           Bacteria\n",
       "3     2264             78  Bacteria;Firmicutes;Clostridia;Clostridiales;I...\n",
       "4       41             71                                           Bacteria\n",
       "5     1189             51  Bacteria;Bacteroidetes;Bacteroidia;Bacteroidal...\n",
       "6      352             50                                           Bacteria\n",
       "7      189             47                                           Bacteria\n",
       "8     2318             40  Bacteria;Firmicutes;Clostridia;Clostridiales;I...\n",
       "9     1977             40       Bacteria;Firmicutes;Clostridia;Clostridiales"
      ]
     },
     "execution_count": 82,
     "metadata": {},
     "output_type": "execute_result"
    }
   ],
   "source": [
    "data4plottingFinal"
   ]
  },
  {
   "cell_type": "code",
   "execution_count": null,
   "metadata": {},
   "outputs": [],
   "source": []
  }
 ],
 "metadata": {
  "kernelspec": {
   "display_name": "Python [conda env:root] *",
   "language": "python",
   "name": "conda-root-py"
  },
  "language_info": {
   "codemirror_mode": {
    "name": "ipython",
    "version": 3
   },
   "file_extension": ".py",
   "mimetype": "text/x-python",
   "name": "python",
   "nbconvert_exporter": "python",
   "pygments_lexer": "ipython3",
   "version": "3.8.5"
  }
 },
 "nbformat": 4,
 "nbformat_minor": 4
}
